{
 "cells": [
  {
   "cell_type": "markdown",
   "metadata": {},
   "source": [
    "# This is the practice on numpy"
   ]
  },
  {
   "cell_type": "markdown",
   "metadata": {},
   "source": [
    "here is a useful reference :\n",
    "http://docs.scipy.org/doc/numpy/reference/arrays.ndarray.html"
   ]
  },
  {
   "cell_type": "code",
   "execution_count": 1,
   "metadata": {
    "collapsed": true
   },
   "outputs": [],
   "source": [
    "import numpy as np"
   ]
  },
  {
   "cell_type": "markdown",
   "metadata": {},
   "source": [
    "# 1. Reverse a vector (first element becomes last)"
   ]
  },
  {
   "cell_type": "code",
   "execution_count": 10,
   "metadata": {
    "scrolled": true
   },
   "outputs": [
    {
     "data": {
      "text/plain": [
       "array([49, 48, 47, 46, 45, 44, 43, 42, 41, 40, 39, 38, 37, 36, 35, 34, 33,\n",
       "       32, 31, 30, 29, 28, 27, 26, 25, 24, 23, 22, 21, 20, 19, 18, 17, 16,\n",
       "       15, 14, 13, 12, 11, 10,  9,  8,  7,  6,  5,  4,  3,  2,  1,  0])"
      ]
     },
     "execution_count": 10,
     "metadata": {},
     "output_type": "execute_result"
    }
   ],
   "source": [
    "x = np.arange(50)\n",
    "              #complete here ,to reverse x\n",
    "x[::-1]\n",
    "# for i in range(25):\n",
    "#     temp = x[i]\n",
    "#     x[i] = x[49-i]\n",
    "#     x[49-i] = temp\n",
    "# print(x)"
   ]
  },
  {
   "cell_type": "markdown",
   "metadata": {},
   "source": [
    "# 2. Create a 2d array with 1 on the border and 0 inside "
   ]
  },
  {
   "cell_type": "code",
   "execution_count": 8,
   "metadata": {},
   "outputs": [
    {
     "name": "stdout",
     "output_type": "stream",
     "text": [
      "[[ 1.  1.  1.  1.  1.  1.  1.  1.  1.  1.]\n",
      " [ 1.  0.  0.  0.  0.  0.  0.  0.  0.  1.]\n",
      " [ 1.  0.  0.  0.  0.  0.  0.  0.  0.  1.]\n",
      " [ 1.  0.  0.  0.  0.  0.  0.  0.  0.  1.]\n",
      " [ 1.  0.  0.  0.  0.  0.  0.  0.  0.  1.]\n",
      " [ 1.  0.  0.  0.  0.  0.  0.  0.  0.  1.]\n",
      " [ 1.  0.  0.  0.  0.  0.  0.  0.  0.  1.]\n",
      " [ 1.  0.  0.  0.  0.  0.  0.  0.  0.  1.]\n",
      " [ 1.  0.  0.  0.  0.  0.  0.  0.  0.  1.]\n",
      " [ 1.  1.  1.  1.  1.  1.  1.  1.  1.  1.]]\n"
     ]
    }
   ],
   "source": [
    "x = np.ones((10,10))\n",
    "                    #complete here ,to make output as following sample \n",
    "x[1:-1,1:-1] = 0\n",
    "print(x)"
   ]
  },
  {
   "cell_type": "markdown",
   "metadata": {},
   "source": [
    "# 3. Multiply a 2x2 matrix (a) by a 2x2 matrix(b)  (real matrix product)"
   ]
  },
  {
   "cell_type": "code",
   "execution_count": 13,
   "metadata": {},
   "outputs": [
    {
     "name": "stdout",
     "output_type": "stream",
     "text": [
      "[[ 2.  2.]\n",
      " [ 2.  2.]]\n"
     ]
    }
   ],
   "source": [
    "a = np.ones((2,2))\n",
    "b = np.ones((2,2))\n",
    "\n",
    "                   #complete here ,to make output as following sample \n",
    "c = a.dot(b)\n",
    "print(c)"
   ]
  },
  {
   "cell_type": "markdown",
   "metadata": {},
   "source": [
    "# 4. Create random vector of size 10 and replace the maximum value by 0"
   ]
  },
  {
   "cell_type": "code",
   "execution_count": 23,
   "metadata": {},
   "outputs": [
    {
     "name": "stdout",
     "output_type": "stream",
     "text": [
      "[ 0.65834679  0.02437291  0.81760863  0.12202807  0.24716368  0.82623669\n",
      "  0.81003     0.84836114  0.96015378  0.53361291]\n",
      "8\n",
      "[ 0.65834679  0.02437291  0.81760863  0.12202807  0.24716368  0.82623669\n",
      "  0.81003     0.84836114  0.          0.53361291]\n"
     ]
    }
   ],
   "source": [
    "Z = np.random.random(10)\n",
    "print(Z)\n",
    "print(Z.argmax())\n",
    "Z[Z.argmax()]  = 0                    #complete here ,to make output as following sample \n",
    "print(Z)"
   ]
  },
  {
   "cell_type": "markdown",
   "metadata": {},
   "source": [
    "# 5. How to find the closest value (to a given scalar) in an array? "
   ]
  },
  {
   "cell_type": "code",
   "execution_count": 21,
   "metadata": {},
   "outputs": [
    {
     "name": "stdout",
     "output_type": "stream",
     "text": [
      "[0 1 2 3 4 5 6 7 8 9]\n",
      "0.19459574920018374\n",
      "0\n"
     ]
    }
   ],
   "source": [
    "z = np.arange(10)\n",
    "v = np.random.uniform(0,10)\n",
    "print(z)\n",
    "print(v)                \n",
    "idx = (np.abs(z-v)).argmin()                           #complete here ,to make output as following sample\n",
    "print(z[idx])"
   ]
  },
  {
   "cell_type": "markdown",
   "metadata": {},
   "source": [
    "# 6. Create a 8x8 matrix and fill it with a checkerboard pattern"
   ]
  },
  {
   "cell_type": "code",
   "execution_count": 15,
   "metadata": {},
   "outputs": [
    {
     "name": "stdout",
     "output_type": "stream",
     "text": [
      "[[1 0 1 0 1 0 1 0]\n",
      " [0 1 0 1 0 1 0 1]\n",
      " [1 0 1 0 1 0 1 0]\n",
      " [0 1 0 1 0 1 0 1]\n",
      " [1 0 1 0 1 0 1 0]\n",
      " [0 1 0 1 0 1 0 1]\n",
      " [1 0 1 0 1 0 1 0]\n",
      " [0 1 0 1 0 1 0 1]]\n"
     ]
    }
   ],
   "source": [
    "Z = np.zeros((8,8),dtype=int)\n",
    "                           #complete here ,to make output as following sample \n",
    "Z[::2,::2] = 1\n",
    "Z[1::2,1::2] = 1\n",
    "\n",
    "print(Z)"
   ]
  },
  {
   "cell_type": "markdown",
   "metadata": {},
   "source": [
    "# 7. Normalize a 5x5 random matrix "
   ]
  },
  {
   "cell_type": "code",
   "execution_count": 38,
   "metadata": {},
   "outputs": [
    {
     "name": "stdout",
     "output_type": "stream",
     "text": [
      "[[ 1.44050535  0.29109191  0.26473036  0.35135628  3.25681528]\n",
      " [ 0.73242667  0.78887608  1.86444758  1.60249977  1.33299847]\n",
      " [ 2.80192402  0.72406949  0.          2.57091376  3.3026776 ]\n",
      " [ 1.11982276  2.81693493  0.95118237  0.42719677  2.36994309]\n",
      " [ 1.29081457  3.14916429  0.86847496  0.06638198  1.34773692]]\n"
     ]
    }
   ],
   "source": [
    "Z = np.random.random((5,5))\n",
    "                                 #complete here ,to make output as following sample\n",
    "max_x = Z.argmax() % 5\n",
    "max_y = int( Z.argmax()/5)\n",
    "\n",
    "min_x = Z.argmin() % 5\n",
    "min_y = int( Z.argmin() /5)\n",
    "\n",
    "\n",
    "Z = (Z - Z[min_x][min_y])/ Z[max_x][max_y]\n",
    "print(Z)"
   ]
  },
  {
   "cell_type": "markdown",
   "metadata": {},
   "source": [
    "# 8. Extract the integer part of a random array using 5 different methods "
   ]
  },
  {
   "cell_type": "code",
   "execution_count": 39,
   "metadata": {},
   "outputs": [
    {
     "name": "stdout",
     "output_type": "stream",
     "text": [
      "[ 0.  2.  9.  9.  9.  5.  0.  4.  1.  4.]\n",
      "[ 0.  2.  9.  9.  9.  5.  0.  4.  1.  4.]\n",
      "[ 0.  2.  9.  9.  9.  5.  0.  4.  1.  4.]\n",
      "[0 2 9 9 9 5 0 4 1 4]\n",
      "[ 0.  2.  9.  9.  9.  5.  0.  4.  1.  4.]\n"
     ]
    }
   ],
   "source": [
    "Z = np.random.uniform(0,10,10)\n",
    "\n",
    "print (Z - Z%1)\n",
    "print (np.floor(Z))\n",
    "print (np.ceil(Z)-1)\n",
    "print (Z.astype(int))\n",
    "print (np.trunc(Z))"
   ]
  },
  {
   "cell_type": "markdown",
   "metadata": {},
   "source": [
    "# 9. Consider a random 10x2 matrix representing cartesian coordinates, convert them to polar coordinates"
   ]
  },
  {
   "cell_type": "code",
   "execution_count": 53,
   "metadata": {},
   "outputs": [
    {
     "name": "stdout",
     "output_type": "stream",
     "text": [
      "[[ 0.1901542   0.29568578]\n",
      " [ 0.05229127  0.39635384]\n",
      " [ 0.30446276  0.9158965 ]\n",
      " [ 0.88568419  0.55767094]\n",
      " [ 0.99788384  0.37921974]\n",
      " [ 0.43635466  0.05029289]\n",
      " [ 0.67673513  0.05960729]\n",
      " [ 0.74205521  0.7809729 ]\n",
      " [ 0.83354892  0.54321357]\n",
      " [ 0.40777537  0.7850424 ]]\n",
      "[[ 0.35155185  0.9992902 ]\n",
      " [ 0.39978837  1.4396231 ]\n",
      " [ 0.96517562  1.24986756]\n",
      " [ 1.04662952  0.56193606]\n",
      " [ 1.06751101  0.36316792]\n",
      " [ 0.43924339  0.11475057]\n",
      " [ 0.67935518  0.08785395]\n",
      " [ 1.07729504  0.81094544]\n",
      " [ 0.99492954  0.57756073]\n",
      " [ 0.88463118  1.09172502]]\n",
      "[[[ 0.35155185  0.39978837  0.96517562  1.04662952  1.06751101  0.43924339\n",
      "    0.67935518  1.07729504  0.99492954  0.88463118]]\n",
      "\n",
      " [[ 0.9992902   1.4396231   1.24986756  0.56193606  0.36316792  0.11475057\n",
      "    0.08785395  0.81094544  0.57756073  1.09172502]]]\n"
     ]
    }
   ],
   "source": [
    "Z = np.random.random((10,2))\n",
    "print(Z)\n",
    "X,Y = Z[:,0], Z[:,1]\n",
    "R = np.sqrt(X**2+Y**2)                          #complete here ,to make output as following sample \n",
    "T = np.arctan2(Y,X)\n",
    "X = np.ones((10,2))\n",
    "X[:, 0] = R\n",
    "X[:, 1] = T\n",
    "print(X)\n"
   ]
  },
  {
   "cell_type": "markdown",
   "metadata": {},
   "source": [
    "# 10. Tell the difference between view and copy, among b,c,d which is shade copy of a, which is deep copy of a?"
   ]
  },
  {
   "cell_type": "code",
   "execution_count": 82,
   "metadata": {},
   "outputs": [
    {
     "name": "stdout",
     "output_type": "stream",
     "text": [
      "b:\n",
      "[[0 0 0]\n",
      " [4 5 6]]\n",
      "a:\n",
      "[[0 0 0]\n",
      " [4 5 6]]\n",
      "c:\n",
      "[-1  4]\n",
      "a:\n",
      "[[ 0 -1  0]\n",
      " [ 4  4  6]]\n",
      "d:\n",
      "[[0 0 0]\n",
      " [0 0 0]]\n",
      "a:\n",
      "[[ 0 -1  0]\n",
      " [ 4  4  6]]\n"
     ]
    }
   ],
   "source": [
    "#creat a\n",
    "a = np.array([[1,2,3],[4,5,6]])\n",
    "# b is another reference object of the array\n",
    "b = a\n",
    "#change b\n",
    "b[0]=0\n",
    "print(\"b:\")\n",
    "print(b)\n",
    "print(\"a:\")\n",
    "print(a)\n",
    "\n",
    "# c is the view on piece of a\n",
    "c = a[:,1]\n",
    "#change c\n",
    "c += -1\n",
    "print(\"c:\")\n",
    "print (c)\n",
    "print(\"a:\")\n",
    "print(a)\n",
    "\n",
    "# d is a copy of a\n",
    "d = a.copy()\n",
    "d -=d\n",
    "print(\"d:\")\n",
    "print(d)\n",
    "print(\"a:\")\n",
    "print(a)\n"
   ]
  },
  {
   "cell_type": "markdown",
   "metadata": {},
   "source": [
    "Solutions:..."
   ]
  }
 ],
 "metadata": {
  "kernelspec": {
   "display_name": "Python 3",
   "language": "python",
   "name": "python3"
  },
  "language_info": {
   "codemirror_mode": {
    "name": "ipython",
    "version": 3
   },
   "file_extension": ".py",
   "mimetype": "text/x-python",
   "name": "python",
   "nbconvert_exporter": "python",
   "pygments_lexer": "ipython3",
   "version": "3.6.3"
  }
 },
 "nbformat": 4,
 "nbformat_minor": 2
}
